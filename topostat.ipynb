{
 "cells": [
  {
   "cell_type": "code",
   "execution_count": 65,
   "metadata": {},
   "outputs": [],
   "source": [
    "using OhMyJulia\n",
    "using DataFrames"
   ]
  },
  {
   "cell_type": "markdown",
   "metadata": {},
   "source": [
    "## Setup"
   ]
  },
  {
   "cell_type": "code",
   "execution_count": 86,
   "metadata": {},
   "outputs": [
    {
     "data": {
      "text/plain": [
       "Dict{String,Dict{Pair{String,String},Array{Pair{Array{Pair{String,String},1},Float64},1}}} with 2 entries:\n",
       "  \"semimcfraeke_0\"  => Dict((\"h10\"=>\"h9\")=>Pair{Array{Pair{String,String},1},Fl…\n",
       "  \"semimcfcustom_0\" => Dict((\"h10\"=>\"h9\")=>Pair{Array{Pair{String,String},1},Fl…"
      ]
     },
     "execution_count": 86,
     "metadata": {},
     "output_type": "execute_result"
    }
   ],
   "source": [
    "function parse_path(file)\n",
    "    pathdict = Dict{Pair{String, String}, Vector{Pair{Vector{Pair{String, String}}, Float64}}}()\n",
    "    \n",
    "    cp = nothing\n",
    "    for line in eachline(file)\n",
    "        m = match(r\"([hs]\\d+)\\s*->\\s*([hs]\\d+)\", line)\n",
    "        if m != nothing\n",
    "            pathdict[car(m) => cadr(m)] = []\n",
    "            cp = pathdict[car(m) => cadr(m)]\n",
    "            continue\n",
    "        end\n",
    "        \n",
    "        s = split(line, '@')\n",
    "        if length(s) == 2\n",
    "            p = parse(car(s))\n",
    "            p = map(x->Pair(string.(x.args)...), p.args)\n",
    "            w = parse(cadr(s))\n",
    "            push!(cp, p => w)\n",
    "        end\n",
    "    end\n",
    "    \n",
    "    pathdict\n",
    "end\n",
    "\n",
    "function parse_topo(file)\n",
    "    nodes = Set{String}()\n",
    "    edges = Set{Pair{String, String}}()\n",
    "    for line in eachline(file)\n",
    "        m = match(r\"([hs]\\d+)\\s*->\\s*([hs]\\d+)\", line)\n",
    "        m == nothing && continue\n",
    "        \n",
    "        src, dst = car(m), cadr(m)\n",
    "        push!(nodes, src, dst)\n",
    "        push!(edges, src => dst)\n",
    "    end\n",
    "    collect(nodes), collect(edges)\n",
    "end\n",
    "\n",
    "function mkdf(names...)\n",
    "    DataFrame([[] for i in names], [Symbol(i) for i in names])\n",
    "end\n",
    "\n",
    "function cut_path()\n",
    "    ref = Dict(k=>Dict(length(car(ps)) for (pair, ps) in v) for (k, v) in paths[\"custom_0\"])\n",
    "    \n",
    "end\n",
    "\n",
    "data = \"abilene\"\n",
    "nodes, edges = parse_topo(\"data/topologies/$data.dot\")\n",
    "# algos = [basename(x) for x in all_files(\"data/results/$data/paths\") if match(r\"_\\d+$\", x) != nothing]\n",
    "algos = [basename(x) for x in all_files(\"data/results/$data/paths\") if endswith(x, \"_0\")]\n",
    "paths = Dict(algo => parse_path(\"data/results/$data/paths/$algo\") for algo in algos)\n",
    "#cut_path()"
   ]
  },
  {
   "cell_type": "markdown",
   "metadata": {},
   "source": [
    "## avg path length"
   ]
  },
  {
   "cell_type": "code",
   "execution_count": 76,
   "metadata": {},
   "outputs": [
    {
     "data": {
      "text/html": [
       "<table class=\"data-frame\"><thead><tr><th></th><th>algorithm</th><th>average length</th><th>max length</th></tr></thead><tbody><tr><th>1</th><td>custom</td><td>5.25</td><td>9</td></tr><tr><th>2</th><td>semimcfvlb</td><td>6.31707</td><td>11</td></tr><tr><th>3</th><td>raeke</td><td>7.43234</td><td>13</td></tr><tr><th>4</th><td>semimcfecmp</td><td>4.7619</td><td>7</td></tr><tr><th>5</th><td>semimcfraeke</td><td>7.2912</td><td>12</td></tr><tr><th>6</th><td>akraeke</td><td>7.37906</td><td>12</td></tr><tr><th>7</th><td>akvlb</td><td>6.33936</td><td>11</td></tr><tr><th>8</th><td>akecmp</td><td>4.7619</td><td>7</td></tr><tr><th>9</th><td>ksp</td><td>7.99423</td><td>13</td></tr><tr><th>10</th><td>vlb</td><td>6.34686</td><td>12</td></tr><tr><th>11</th><td>semimcfksp</td><td>7.99423</td><td>13</td></tr><tr><th>12</th><td>semimcfcustom</td><td>5.25</td><td>9</td></tr><tr><th>13</th><td>semimcfedksp</td><td>5.25</td><td>9</td></tr><tr><th>14</th><td>akksp</td><td>7.99423</td><td>13</td></tr><tr><th>15</th><td>mwmcf</td><td>4.5</td><td>7</td></tr><tr><th>16</th><td>ecmp</td><td>4.7619</td><td>7</td></tr><tr><th>17</th><td>cspf</td><td>4.7619</td><td>7</td></tr><tr><th>18</th><td>semimcfkspft</td><td>7.99423</td><td>13</td></tr><tr><th>19</th><td>edksp</td><td>5.25</td><td>9</td></tr></tbody></table>"
      ],
      "text/plain": [
       "19×3 DataFrames.DataFrame\n",
       "│ Row │ algorithm     │ average length │ max length │\n",
       "├─────┼───────────────┼────────────────┼────────────┤\n",
       "│ 1   │ custom        │ 5.25           │ 9          │\n",
       "│ 2   │ semimcfvlb    │ 6.31707        │ 11         │\n",
       "│ 3   │ raeke         │ 7.43234        │ 13         │\n",
       "│ 4   │ semimcfecmp   │ 4.7619         │ 7          │\n",
       "│ 5   │ semimcfraeke  │ 7.2912         │ 12         │\n",
       "│ 6   │ akraeke       │ 7.37906        │ 12         │\n",
       "│ 7   │ akvlb         │ 6.33936        │ 11         │\n",
       "│ 8   │ akecmp        │ 4.7619         │ 7          │\n",
       "│ 9   │ ksp           │ 7.99423        │ 13         │\n",
       "│ 10  │ vlb           │ 6.34686        │ 12         │\n",
       "│ 11  │ semimcfksp    │ 7.99423        │ 13         │\n",
       "│ 12  │ semimcfcustom │ 5.25           │ 9          │\n",
       "│ 13  │ semimcfedksp  │ 5.25           │ 9          │\n",
       "│ 14  │ akksp         │ 7.99423        │ 13         │\n",
       "│ 15  │ mwmcf         │ 4.5            │ 7          │\n",
       "│ 16  │ ecmp          │ 4.7619         │ 7          │\n",
       "│ 17  │ cspf          │ 4.7619         │ 7          │\n",
       "│ 18  │ semimcfkspft  │ 7.99423        │ 13         │\n",
       "│ 19  │ edksp         │ 5.25           │ 9          │"
      ]
     },
     "execution_count": 76,
     "metadata": {},
     "output_type": "execute_result"
    }
   ],
   "source": [
    "df = mkdf(\"algorithm\", \"average length\", \"max length\")\n",
    "for (algo, path) in paths\n",
    "    lens = [length(car(p)) for (k, v) in path for p in v]\n",
    "    push!(df, [algo[1:end-2] mean(lens) maximum(lens)])\n",
    "end\n",
    "df"
   ]
  },
  {
   "cell_type": "markdown",
   "metadata": {},
   "source": [
    "## one edge failure"
   ]
  },
  {
   "cell_type": "code",
   "execution_count": 83,
   "metadata": {},
   "outputs": [
    {
     "data": {
      "text/html": [
       "<table class=\"data-frame\"><thead><tr><th></th><th>algorithm</th><th>affected path</th><th>affected pair</th><th>affected weight</th></tr></thead><tbody><tr><th>1</th><td>custom</td><td>806</td><td>806</td><td>427.333</td></tr><tr><th>2</th><td>semimcfvlb</td><td>2124</td><td>1444</td><td>482.204</td></tr><tr><th>3</th><td>raeke</td><td>4536</td><td>1823</td><td>450.202</td></tr><tr><th>4</th><td>semimcfecmp</td><td>464</td><td>416</td><td>330.0</td></tr><tr><th>5</th><td>semimcfraeke</td><td>4270</td><td>1735</td><td>510.711</td></tr><tr><th>6</th><td>akraeke</td><td>4470</td><td>1859</td><td>445.992</td></tr><tr><th>7</th><td>akvlb</td><td>2161</td><td>1449</td><td>431.0</td></tr><tr><th>8</th><td>akecmp</td><td>464</td><td>416</td><td>330.0</td></tr><tr><th>9</th><td>ksp</td><td>6234</td><td>1944</td><td>751.959</td></tr><tr><th>10</th><td>vlb</td><td>2143</td><td>1444</td><td>430.333</td></tr><tr><th>11</th><td>semimcfksp</td><td>6234</td><td>1944</td><td>562.628</td></tr><tr><th>12</th><td>semimcfcustom</td><td>806</td><td>806</td><td>393.636</td></tr><tr><th>13</th><td>semimcfedksp</td><td>806</td><td>806</td><td>393.636</td></tr><tr><th>14</th><td>akksp</td><td>6234</td><td>1944</td><td>751.959</td></tr><tr><th>15</th><td>mwmcf</td><td>330</td><td>330</td><td>330.0</td></tr><tr><th>16</th><td>ecmp</td><td>464</td><td>416</td><td>330.0</td></tr><tr><th>17</th><td>cspf</td><td>464</td><td>416</td><td>330.0</td></tr><tr><th>18</th><td>semimcfkspft</td><td>6234</td><td>1944</td><td>562.628</td></tr><tr><th>19</th><td>edksp</td><td>806</td><td>806</td><td>427.333</td></tr></tbody></table>"
      ],
      "text/plain": [
       "19×4 DataFrames.DataFrame\n",
       "│ Row │ algorithm     │ affected path │ affected pair │ affected weight │\n",
       "├─────┼───────────────┼───────────────┼───────────────┼─────────────────┤\n",
       "│ 1   │ custom        │ 806           │ 806           │ 427.333         │\n",
       "│ 2   │ semimcfvlb    │ 2124          │ 1444          │ 482.204         │\n",
       "│ 3   │ raeke         │ 4536          │ 1823          │ 450.202         │\n",
       "│ 4   │ semimcfecmp   │ 464           │ 416           │ 330.0           │\n",
       "│ 5   │ semimcfraeke  │ 4270          │ 1735          │ 510.711         │\n",
       "│ 6   │ akraeke       │ 4470          │ 1859          │ 445.992         │\n",
       "│ 7   │ akvlb         │ 2161          │ 1449          │ 431.0           │\n",
       "│ 8   │ akecmp        │ 464           │ 416           │ 330.0           │\n",
       "│ 9   │ ksp           │ 6234          │ 1944          │ 751.959         │\n",
       "│ 10  │ vlb           │ 2143          │ 1444          │ 430.333         │\n",
       "│ 11  │ semimcfksp    │ 6234          │ 1944          │ 562.628         │\n",
       "│ 12  │ semimcfcustom │ 806           │ 806           │ 393.636         │\n",
       "│ 13  │ semimcfedksp  │ 806           │ 806           │ 393.636         │\n",
       "│ 14  │ akksp         │ 6234          │ 1944          │ 751.959         │\n",
       "│ 15  │ mwmcf         │ 330           │ 330           │ 330.0           │\n",
       "│ 16  │ ecmp          │ 464           │ 416           │ 330.0           │\n",
       "│ 17  │ cspf          │ 464           │ 416           │ 330.0           │\n",
       "│ 18  │ semimcfkspft  │ 6234          │ 1944          │ 562.628         │\n",
       "│ 19  │ edksp         │ 806           │ 806           │ 427.333         │"
      ]
     },
     "execution_count": 83,
     "metadata": {},
     "output_type": "execute_result"
    }
   ],
   "source": [
    "df = mkdf(\"algorithm\", \"affected path\", \"affected pair\", \"affected weight\")\n",
    "for (algo, path) in paths\n",
    "    apath, apair, aweight = 0, 0, 0\n",
    "    \n",
    "    for edge in edges @when startswith(car(edge), \"s\") && startswith(cadr(edge), \"s\")\n",
    "        for (pair, scheme) in path\n",
    "            pair_affected = false\n",
    "            \n",
    "            for (p, w) in scheme @when edge in p\n",
    "                pair_affected = true\n",
    "                apath += 1\n",
    "                aweight += w\n",
    "            end\n",
    "            \n",
    "            apair += pair_affected\n",
    "        end\n",
    "    end\n",
    "    \n",
    "    push!(df, [algo[1:end-2] apath apair aweight])\n",
    "end\n",
    "df"
   ]
  },
  {
   "cell_type": "markdown",
   "metadata": {},
   "source": [
    "## one node failure"
   ]
  },
  {
   "cell_type": "code",
   "execution_count": 84,
   "metadata": {},
   "outputs": [
    {
     "data": {
      "text/html": [
       "<table class=\"data-frame\"><thead><tr><th></th><th>algorithm</th><th>affected path</th><th>affected pair</th><th>affected weight</th></tr></thead><tbody><tr><th>1</th><td>custom</td><td>1054</td><td>822</td><td>559.333</td></tr><tr><th>2</th><td>semimcfvlb</td><td>2616</td><td>1202</td><td>614.204</td></tr><tr><th>3</th><td>raeke</td><td>5371</td><td>1382</td><td>582.202</td></tr><tr><th>4</th><td>semimcfecmp</td><td>632</td><td>512</td><td>462.0</td></tr><tr><th>5</th><td>semimcfraeke</td><td>5077</td><td>1328</td><td>642.711</td></tr><tr><th>6</th><td>akraeke</td><td>5301</td><td>1410</td><td>577.992</td></tr><tr><th>7</th><td>akvlb</td><td>2659</td><td>1202</td><td>563.0</td></tr><tr><th>8</th><td>akecmp</td><td>632</td><td>512</td><td>462.0</td></tr><tr><th>9</th><td>ksp</td><td>7274</td><td>1454</td><td>883.959</td></tr><tr><th>10</th><td>vlb</td><td>2636</td><td>1206</td><td>562.333</td></tr><tr><th>11</th><td>semimcfksp</td><td>7274</td><td>1454</td><td>694.628</td></tr><tr><th>12</th><td>semimcfcustom</td><td>1054</td><td>822</td><td>525.636</td></tr><tr><th>13</th><td>semimcfedksp</td><td>1054</td><td>822</td><td>525.636</td></tr><tr><th>14</th><td>akksp</td><td>7274</td><td>1454</td><td>883.959</td></tr><tr><th>15</th><td>mwmcf</td><td>462</td><td>462</td><td>462.0</td></tr><tr><th>16</th><td>ecmp</td><td>632</td><td>512</td><td>462.0</td></tr><tr><th>17</th><td>cspf</td><td>632</td><td>512</td><td>462.0</td></tr><tr><th>18</th><td>semimcfkspft</td><td>7274</td><td>1454</td><td>694.628</td></tr><tr><th>19</th><td>edksp</td><td>1054</td><td>822</td><td>559.333</td></tr></tbody></table>"
      ],
      "text/plain": [
       "19×4 DataFrames.DataFrame\n",
       "│ Row │ algorithm     │ affected path │ affected pair │ affected weight │\n",
       "├─────┼───────────────┼───────────────┼───────────────┼─────────────────┤\n",
       "│ 1   │ custom        │ 1054          │ 822           │ 559.333         │\n",
       "│ 2   │ semimcfvlb    │ 2616          │ 1202          │ 614.204         │\n",
       "│ 3   │ raeke         │ 5371          │ 1382          │ 582.202         │\n",
       "│ 4   │ semimcfecmp   │ 632           │ 512           │ 462.0           │\n",
       "│ 5   │ semimcfraeke  │ 5077          │ 1328          │ 642.711         │\n",
       "│ 6   │ akraeke       │ 5301          │ 1410          │ 577.992         │\n",
       "│ 7   │ akvlb         │ 2659          │ 1202          │ 563.0           │\n",
       "│ 8   │ akecmp        │ 632           │ 512           │ 462.0           │\n",
       "│ 9   │ ksp           │ 7274          │ 1454          │ 883.959         │\n",
       "│ 10  │ vlb           │ 2636          │ 1206          │ 562.333         │\n",
       "│ 11  │ semimcfksp    │ 7274          │ 1454          │ 694.628         │\n",
       "│ 12  │ semimcfcustom │ 1054          │ 822           │ 525.636         │\n",
       "│ 13  │ semimcfedksp  │ 1054          │ 822           │ 525.636         │\n",
       "│ 14  │ akksp         │ 7274          │ 1454          │ 883.959         │\n",
       "│ 15  │ mwmcf         │ 462           │ 462           │ 462.0           │\n",
       "│ 16  │ ecmp          │ 632           │ 512           │ 462.0           │\n",
       "│ 17  │ cspf          │ 632           │ 512           │ 462.0           │\n",
       "│ 18  │ semimcfkspft  │ 7274          │ 1454          │ 694.628         │\n",
       "│ 19  │ edksp         │ 1054          │ 822           │ 559.333         │"
      ]
     },
     "execution_count": 84,
     "metadata": {},
     "output_type": "execute_result"
    }
   ],
   "source": [
    "df = mkdf(\"algorithm\", \"affected path\", \"affected pair\", \"affected weight\")\n",
    "for (algo, path) in paths\n",
    "    apath, apair, aweight = 0, 0, 0\n",
    "    \n",
    "    for node in nodes @when startswith(node, \"s\")\n",
    "        for (pair, scheme) in path\n",
    "            pair_affected = false\n",
    "            \n",
    "            for (p, w) in scheme @when any(x->node in x, p)\n",
    "                pair_affected = true\n",
    "                apath += 1\n",
    "                aweight += w\n",
    "            end\n",
    "            \n",
    "            apair += pair_affected\n",
    "        end\n",
    "    end\n",
    "    \n",
    "    push!(df, [algo[1:end-2] apath apair aweight])\n",
    "end\n",
    "df"
   ]
  }
 ],
 "metadata": {
  "kernelspec": {
   "display_name": "Julia 0.6.2",
   "language": "julia",
   "name": "julia-0.6"
  },
  "language_info": {
   "file_extension": ".jl",
   "mimetype": "application/julia",
   "name": "julia",
   "version": "0.6.2"
  }
 },
 "nbformat": 4,
 "nbformat_minor": 2
}
