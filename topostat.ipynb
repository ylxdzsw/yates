{
 "cells": [
  {
   "cell_type": "code",
   "execution_count": 13,
   "metadata": {},
   "outputs": [],
   "source": [
    "using OhMyJulia\n",
    "using DataFrames"
   ]
  },
  {
   "cell_type": "markdown",
   "metadata": {},
   "source": [
    "## Setup"
   ]
  },
  {
   "cell_type": "code",
   "execution_count": 65,
   "metadata": {},
   "outputs": [],
   "source": [
    "function parse_path(file)\n",
    "    pathdict = Dict{Pair{String, String}, Vector{Pair{Vector{Pair{String, String}}, Float64}}}()\n",
    "    \n",
    "    cp = nothing\n",
    "    for line in eachline(file)\n",
    "        m = match(r\"([hs]\\d+)\\s*->\\s*([hs]\\d+)\", line)\n",
    "        if m != nothing\n",
    "            pathdict[car(m) => cadr(m)] = []\n",
    "            cp = pathdict[car(m) => cadr(m)]\n",
    "            continue\n",
    "        end\n",
    "        \n",
    "        s = split(line, '@')\n",
    "        if length(s) == 2\n",
    "            p = parse(car(s))\n",
    "            p = map(x->Pair(string.(x.args)...), p.args)\n",
    "            w = parse(cadr(s))\n",
    "            push!(cp, p => w)\n",
    "        end\n",
    "    end\n",
    "    \n",
    "    pathdict\n",
    "end\n",
    "\n",
    "function parse_topo(file)\n",
    "    nodes = Set{String}()\n",
    "    edges = Set{Pair{String, String}}()\n",
    "    for line in eachline(file)\n",
    "        m = match(r\"([hs]\\d+)\\s*->\\s*([hs]\\d+)\", line)\n",
    "        m == nothing && continue\n",
    "        \n",
    "        src, dst = car(m), cadr(m)\n",
    "        push!(nodes, src, dst)\n",
    "        push!(edges, src => dst)\n",
    "    end\n",
    "    collect(nodes), collect(edges)\n",
    "end\n",
    "\n",
    "function mkdf(names...)\n",
    "    DataFrame([[] for i in names], [Symbol(i) for i in names])\n",
    "end\n",
    "\n",
    "function cut_path!()\n",
    "    ref = Dict(k=>length(v) for (k, v) in paths[\"custom_0\"])\n",
    "    \n",
    "    for (algo, path) in paths\n",
    "        for (pair, scheme) in path\n",
    "            scheme = sort(scheme, rev=true, by=cadr)\n",
    "            length(scheme) <= ref[pair] && continue\n",
    "            \n",
    "            newscheme = scheme[1:ref[pair]]\n",
    "            factor = sum(cadr.(newscheme))\n",
    "            path[pair] = [p => w / factor for (p, w) in newscheme]\n",
    "        end\n",
    "    end\n",
    "end\n",
    "\n",
    "data = \"jelly16\"\n",
    "nodes, edges = parse_topo(\"data/topologies/$data.dot\")\n",
    "core_edges = filter(x->startswith(car(x), \"s\") && startswith(cadr(x), \"s\"), edges)\n",
    "# algos = [basename(x) for x in all_files(\"data/results/$data/paths\") if match(r\"_\\d+$\", x) != nothing]\n",
    "algos = [basename(x) for x in all_files(\"data/results/$data/paths\") if endswith(x, \"_0\")]\n",
    "paths = Dict(algo => parse_path(\"data/results/$data/paths/$algo\") for algo in algos)\n",
    "cut_path!()"
   ]
  },
  {
   "cell_type": "markdown",
   "metadata": {},
   "source": [
    "## avg path length"
   ]
  },
  {
   "cell_type": "code",
   "execution_count": 70,
   "metadata": {},
   "outputs": [
    {
     "data": {
      "text/html": [
       "<table class=\"data-frame\"><thead><tr><th></th><th>algorithm</th><th>average length</th><th>max length</th></tr></thead><tbody><tr><th>1</th><td>custom</td><td>5.13472</td><td>7</td></tr><tr><th>2</th><td>semimcfvlb</td><td>4.90417</td><td>8</td></tr><tr><th>3</th><td>raeke</td><td>4.66528</td><td>6</td></tr><tr><th>4</th><td>semimcfecmp</td><td>4.20526</td><td>5</td></tr><tr><th>5</th><td>semimcfraeke</td><td>4.66389</td><td>6</td></tr><tr><th>6</th><td>ksp</td><td>4.63611</td><td>6</td></tr><tr><th>7</th><td>vlb</td><td>4.91528</td><td>8</td></tr><tr><th>8</th><td>semimcfksp</td><td>4.65833</td><td>6</td></tr><tr><th>9</th><td>semimcfcustom</td><td>5.13472</td><td>7</td></tr><tr><th>10</th><td>semimcfedksp</td><td>4.72778</td><td>6</td></tr><tr><th>11</th><td>ecmp</td><td>4.20526</td><td>5</td></tr><tr><th>12</th><td>edksp</td><td>4.72778</td><td>6</td></tr></tbody></table>"
      ],
      "text/plain": [
       "12×3 DataFrames.DataFrame\n",
       "│ Row │ algorithm     │ average length │ max length │\n",
       "├─────┼───────────────┼────────────────┼────────────┤\n",
       "│ 1   │ custom        │ 5.13472        │ 7          │\n",
       "│ 2   │ semimcfvlb    │ 4.90417        │ 8          │\n",
       "│ 3   │ raeke         │ 4.66528        │ 6          │\n",
       "│ 4   │ semimcfecmp   │ 4.20526        │ 5          │\n",
       "│ 5   │ semimcfraeke  │ 4.66389        │ 6          │\n",
       "│ 6   │ ksp           │ 4.63611        │ 6          │\n",
       "│ 7   │ vlb           │ 4.91528        │ 8          │\n",
       "│ 8   │ semimcfksp    │ 4.65833        │ 6          │\n",
       "│ 9   │ semimcfcustom │ 5.13472        │ 7          │\n",
       "│ 10  │ semimcfedksp  │ 4.72778        │ 6          │\n",
       "│ 11  │ ecmp          │ 4.20526        │ 5          │\n",
       "│ 12  │ edksp         │ 4.72778        │ 6          │"
      ]
     },
     "execution_count": 70,
     "metadata": {},
     "output_type": "execute_result"
    }
   ],
   "source": [
    "df = mkdf(\"algorithm\", \"average length\", \"max length\")\n",
    "for (algo, path) in paths\n",
    "    lens = [length(car(p)) for (k, v) in path for p in v]\n",
    "    push!(df, [algo[1:end-2] mean(lens) maximum(lens)])\n",
    "end\n",
    "df"
   ]
  },
  {
   "cell_type": "markdown",
   "metadata": {},
   "source": [
    "## one edge failure"
   ]
  },
  {
   "cell_type": "code",
   "execution_count": 67,
   "metadata": {},
   "outputs": [
    {
     "data": {
      "text/html": [
       "<table class=\"data-frame\"><thead><tr><th></th><th>algorithm</th><th>#path</th><th>affected path</th><th>affected path / #edge</th><th>affected path / #edge / #path</th><th>affected pair</th><th>affected weight</th><th>average affected path</th><th>a1</th><th>a2</th><th>a3</th><th>a4</th><th>a5+</th></tr></thead><tbody><tr><th>1</th><td>custom</td><td>720</td><td>2257</td><td>23.5104</td><td>0.0326534</td><td>2257</td><td>752.333</td><td>1.0</td><td>2257</td><td>0</td><td>0</td><td>0</td><td>0</td></tr><tr><th>2</th><td>semimcfvlb</td><td>720</td><td>2091</td><td>21.7813</td><td>0.0302517</td><td>1979</td><td>540.537</td><td>1.05659</td><td>1867</td><td>112</td><td>0</td><td>0</td><td>0</td></tr><tr><th>3</th><td>raeke</td><td>720</td><td>1919</td><td>19.9896</td><td>0.0277633</td><td>1844</td><td>552.652</td><td>1.04067</td><td>1769</td><td>75</td><td>0</td><td>0</td><td>0</td></tr><tr><th>4</th><td>semimcfecmp</td><td>380</td><td>838</td><td>8.72917</td><td>0.0229715</td><td>796</td><td>466.0</td><td>1.05276</td><td>758</td><td>34</td><td>4</td><td>0</td><td>0</td></tr><tr><th>5</th><td>semimcfraeke</td><td>720</td><td>1918</td><td>19.9792</td><td>0.0277488</td><td>1831</td><td>561.168</td><td>1.04752</td><td>1744</td><td>87</td><td>0</td><td>0</td><td>0</td></tr><tr><th>6</th><td>ksp</td><td>720</td><td>1898</td><td>19.7708</td><td>0.0274595</td><td>1712</td><td>632.667</td><td>1.10864</td><td>1530</td><td>178</td><td>4</td><td>0</td><td>0</td></tr><tr><th>7</th><td>vlb</td><td>720</td><td>2099</td><td>21.8646</td><td>0.0303675</td><td>1970</td><td>600.197</td><td>1.06548</td><td>1842</td><td>127</td><td>1</td><td>0</td><td>0</td></tr><tr><th>8</th><td>semimcfksp</td><td>720</td><td>1914</td><td>19.9375</td><td>0.027691</td><td>1733</td><td>561.463</td><td>1.10444</td><td>1555</td><td>175</td><td>3</td><td>0</td><td>0</td></tr><tr><th>9</th><td>semimcfcustom</td><td>720</td><td>2257</td><td>23.5104</td><td>0.0326534</td><td>2257</td><td>605.824</td><td>1.0</td><td>2257</td><td>0</td><td>0</td><td>0</td><td>0</td></tr><tr><th>10</th><td>semimcfedksp</td><td>720</td><td>1964</td><td>20.4583</td><td>0.0284144</td><td>1964</td><td>552.657</td><td>1.0</td><td>1964</td><td>0</td><td>0</td><td>0</td><td>0</td></tr><tr><th>11</th><td>ecmp</td><td>380</td><td>838</td><td>8.72917</td><td>0.0229715</td><td>796</td><td>466.0</td><td>1.05276</td><td>758</td><td>34</td><td>4</td><td>0</td><td>0</td></tr><tr><th>12</th><td>edksp</td><td>720</td><td>1964</td><td>20.4583</td><td>0.0284144</td><td>1964</td><td>654.666</td><td>1.0</td><td>1964</td><td>0</td><td>0</td><td>0</td><td>0</td></tr></tbody></table>"
      ],
      "text/plain": [
       "12×13 DataFrames.DataFrame. Omitted printing of 9 columns\n",
       "│ Row │ algorithm     │ #path │ affected path │ affected path / #edge │\n",
       "├─────┼───────────────┼───────┼───────────────┼───────────────────────┤\n",
       "│ 1   │ custom        │ 720   │ 2257          │ 23.5104               │\n",
       "│ 2   │ semimcfvlb    │ 720   │ 2091          │ 21.7813               │\n",
       "│ 3   │ raeke         │ 720   │ 1919          │ 19.9896               │\n",
       "│ 4   │ semimcfecmp   │ 380   │ 838           │ 8.72917               │\n",
       "│ 5   │ semimcfraeke  │ 720   │ 1918          │ 19.9792               │\n",
       "│ 6   │ ksp           │ 720   │ 1898          │ 19.7708               │\n",
       "│ 7   │ vlb           │ 720   │ 2099          │ 21.8646               │\n",
       "│ 8   │ semimcfksp    │ 720   │ 1914          │ 19.9375               │\n",
       "│ 9   │ semimcfcustom │ 720   │ 2257          │ 23.5104               │\n",
       "│ 10  │ semimcfedksp  │ 720   │ 1964          │ 20.4583               │\n",
       "│ 11  │ ecmp          │ 380   │ 838           │ 8.72917               │\n",
       "│ 12  │ edksp         │ 720   │ 1964          │ 20.4583               │"
      ]
     },
     "execution_count": 67,
     "metadata": {},
     "output_type": "execute_result"
    }
   ],
   "source": [
    "df = mkdf(\"algorithm\", \"#path\", \"affected path\", \"affected path / #edge\", \"affected path / #edge / #path\", \"affected pair\", \"affected weight\", \"average affected path\", \"a1\", \"a2\", \"a3\", \"a4\", \"a5+\")\n",
    "for (algo, path) in paths\n",
    "    aweight, apaths = 0, []\n",
    "    \n",
    "    for edge in core_edges\n",
    "        for (pair, scheme) in path\n",
    "            pair_affected_path = 0\n",
    "            \n",
    "            for (p, w) in scheme @when edge in p\n",
    "                pair_affected_path += 1\n",
    "                aweight += w\n",
    "            end\n",
    "            \n",
    "            pair_affected_path > 0 && push!(apaths, pair_affected_path)\n",
    "        end\n",
    "    end\n",
    "    \n",
    "    push!(df, [algo[1:end-2] sum(length∘cadr, path) sum(apaths) sum(apaths)/length(edges) sum(apaths)/length(edges)/sum(length∘cadr, path) length(apaths) aweight mean(apaths) sum(apaths .== 1) sum(apaths .== 2) sum(apaths .== 3) sum(apaths .== 4) sum(apaths .>= 5)])\n",
    "end\n",
    "df"
   ]
  },
  {
   "cell_type": "markdown",
   "metadata": {},
   "source": [
    "## two edges failure"
   ]
  },
  {
   "cell_type": "code",
   "execution_count": 68,
   "metadata": {},
   "outputs": [
    {
     "data": {
      "text/html": [
       "<table class=\"data-frame\"><thead><tr><th></th><th>algorithm</th><th>#path</th><th>affected path</th><th>affected path / #edge</th><th>affected path / #edge / #path</th><th>affected pair</th><th>affected weight</th><th>average affected path</th><th>a1</th><th>a2</th><th>a3</th><th>a4</th><th>a5+</th></tr></thead><tbody><tr><th>1</th><td>custom</td><td>720</td><td>278764</td><td>2903.79</td><td>4.03304</td><td>264996</td><td>92921.2</td><td>1.05196</td><td>251228</td><td>13768</td><td>0</td><td>0</td><td>0</td></tr><tr><th>2</th><td>semimcfvlb</td><td>720</td><td>258716</td><td>2694.96</td><td>3.743</td><td>234756</td><td>67242.5</td><td>1.10206</td><td>211248</td><td>23056</td><td>452</td><td>0</td><td>0</td></tr><tr><th>3</th><td>raeke</td><td>720</td><td>238152</td><td>2480.75</td><td>3.44549</td><td>219702</td><td>68744.7</td><td>1.08398</td><td>201570</td><td>17814</td><td>318</td><td>0</td><td>0</td></tr><tr><th>4</th><td>semimcfecmp</td><td>380</td><td>104388</td><td>1087.38</td><td>2.86151</td><td>96922</td><td>58164.0</td><td>1.07703</td><td>90154</td><td>6070</td><td>698</td><td>0</td><td>0</td></tr><tr><th>5</th><td>semimcfraeke</td><td>720</td><td>238032</td><td>2479.5</td><td>3.44375</td><td>218256</td><td>69790.1</td><td>1.09061</td><td>198856</td><td>19024</td><td>376</td><td>0</td><td>0</td></tr><tr><th>6</th><td>ksp</td><td>720</td><td>235632</td><td>2454.5</td><td>3.40903</td><td>205010</td><td>78544.0</td><td>1.14937</td><td>175674</td><td>28050</td><td>1286</td><td>0</td><td>0</td></tr><tr><th>7</th><td>vlb</td><td>720</td><td>259686</td><td>2705.06</td><td>3.75703</td><td>233762</td><td>74472.7</td><td>1.1109</td><td>208520</td><td>24560</td><td>682</td><td>0</td><td>0</td></tr><tr><th>8</th><td>semimcfksp</td><td>720</td><td>237558</td><td>2474.56</td><td>3.43689</td><td>207370</td><td>69802.2</td><td>1.14558</td><td>178338</td><td>27876</td><td>1156</td><td>0</td><td>0</td></tr><tr><th>9</th><td>semimcfcustom</td><td>720</td><td>278764</td><td>2903.79</td><td>4.03304</td><td>264996</td><td>75172.2</td><td>1.05196</td><td>251228</td><td>13768</td><td>0</td><td>0</td><td>0</td></tr><tr><th>10</th><td>semimcfedksp</td><td>720</td><td>243552</td><td>2537.0</td><td>3.52361</td><td>233044</td><td>68755.5</td><td>1.04509</td><td>222536</td><td>10508</td><td>0</td><td>0</td><td>0</td></tr><tr><th>11</th><td>ecmp</td><td>380</td><td>104388</td><td>1087.38</td><td>2.86151</td><td>96922</td><td>58164.0</td><td>1.07703</td><td>90154</td><td>6070</td><td>698</td><td>0</td><td>0</td></tr><tr><th>12</th><td>edksp</td><td>720</td><td>243552</td><td>2537.0</td><td>3.52361</td><td>233044</td><td>81183.9</td><td>1.04509</td><td>222536</td><td>10508</td><td>0</td><td>0</td><td>0</td></tr></tbody></table>"
      ],
      "text/plain": [
       "12×13 DataFrames.DataFrame. Omitted printing of 9 columns\n",
       "│ Row │ algorithm     │ #path │ affected path │ affected path / #edge │\n",
       "├─────┼───────────────┼───────┼───────────────┼───────────────────────┤\n",
       "│ 1   │ custom        │ 720   │ 278764        │ 2903.79               │\n",
       "│ 2   │ semimcfvlb    │ 720   │ 258716        │ 2694.96               │\n",
       "│ 3   │ raeke         │ 720   │ 238152        │ 2480.75               │\n",
       "│ 4   │ semimcfecmp   │ 380   │ 104388        │ 1087.38               │\n",
       "│ 5   │ semimcfraeke  │ 720   │ 238032        │ 2479.5                │\n",
       "│ 6   │ ksp           │ 720   │ 235632        │ 2454.5                │\n",
       "│ 7   │ vlb           │ 720   │ 259686        │ 2705.06               │\n",
       "│ 8   │ semimcfksp    │ 720   │ 237558        │ 2474.56               │\n",
       "│ 9   │ semimcfcustom │ 720   │ 278764        │ 2903.79               │\n",
       "│ 10  │ semimcfedksp  │ 720   │ 243552        │ 2537.0                │\n",
       "│ 11  │ ecmp          │ 380   │ 104388        │ 1087.38               │\n",
       "│ 12  │ edksp         │ 720   │ 243552        │ 2537.0                │"
      ]
     },
     "execution_count": 68,
     "metadata": {},
     "output_type": "execute_result"
    }
   ],
   "source": [
    "df = mkdf(\"algorithm\", \"#path\", \"affected path\", \"affected path / #edge\", \"affected path / #edge / #path\", \"affected pair\", \"affected weight\", \"average affected path\", \"a1\", \"a2\", \"a3\", \"a4\", \"a5+\")\n",
    "\n",
    "for (algo, path) in paths\n",
    "    aweight, apaths = 0, []\n",
    "    \n",
    "    for e1 in core_edges, e2 in core_edges @when e1 != e2\n",
    "        for (pair, scheme) in path\n",
    "            pair_affected_path = 0\n",
    "            \n",
    "            for (p, w) in scheme @when e1 in p || e2 in p\n",
    "                pair_affected_path += 1\n",
    "                aweight += w\n",
    "            end\n",
    "            \n",
    "            pair_affected_path > 0 && push!(apaths, pair_affected_path)\n",
    "        end\n",
    "    end\n",
    "    \n",
    "    push!(df, [algo[1:end-2] sum(length∘cadr, path) sum(apaths) sum(apaths)/length(edges) sum(apaths)/length(edges)/sum(length∘cadr, path) length(apaths) aweight mean(apaths) sum(apaths .== 1) sum(apaths .== 2) sum(apaths .== 3) sum(apaths .== 4) sum(apaths .>= 5)])\n",
    "end\n",
    "df"
   ]
  },
  {
   "cell_type": "markdown",
   "metadata": {},
   "source": [
    "## 3 edges failure"
   ]
  },
  {
   "cell_type": "code",
   "execution_count": 69,
   "metadata": {},
   "outputs": [
    {
     "ename": "LoadError",
     "evalue": "\u001b[91mInterruptException:\u001b[39m",
     "output_type": "error",
     "traceback": [
      "\u001b[91mInterruptException:\u001b[39m",
      "",
      "Stacktrace:",
      " [1] \u001b[1mindexed_next\u001b[22m\u001b[22m\u001b[1m(\u001b[22m\u001b[22m::Pair{Array{Pair{String,String},1},Float64}, ::Int64, ::Int64\u001b[1m)\u001b[22m\u001b[22m at \u001b[1m./pair.jl:15\u001b[22m\u001b[22m",
      " [2] \u001b[1mmacro expansion\u001b[22m\u001b[22m at \u001b[1m./In[69]:10\u001b[22m\u001b[22m [inlined]",
      " [3] \u001b[1manonymous\u001b[22m\u001b[22m at \u001b[1m./<missing>:?\u001b[22m\u001b[22m"
     ]
    }
   ],
   "source": [
    "df = mkdf(\"algorithm\", \"#path\", \"affected path\", \"affected path / #edge\", \"affected path / #edge / #path\", \"affected pair\", \"affected weight\", \"average affected path\", \"a1\", \"a2\", \"a3\", \"a4\", \"a5+\")\n",
    "\n",
    "for (algo, path) in paths\n",
    "    aweight, apaths = 0, []\n",
    "    \n",
    "    for e1 in core_edges, e2 in core_edges, e3 in core_edges @when e1 != e2 != e3\n",
    "        for (pair, scheme) in path\n",
    "            pair_affected_path = 0\n",
    "            \n",
    "            for (p, w) in scheme @when e1 in p || e2 in p || e3 in p\n",
    "                pair_affected_path += 1\n",
    "                aweight += w\n",
    "            end\n",
    "            \n",
    "            pair_affected_path > 0 && push!(apaths, pair_affected_path)\n",
    "        end\n",
    "    end\n",
    "    \n",
    "    push!(df, [algo[1:end-2] sum(length∘cadr, path) sum(apaths) sum(apaths)/length(edges) sum(apaths)/length(edges)/sum(length∘cadr, path) length(apaths) aweight mean(apaths) sum(apaths .== 1) sum(apaths .== 2) sum(apaths .== 3) sum(apaths .== 4) sum(apaths .>= 5)])\n",
    "end\n",
    "df"
   ]
  },
  {
   "cell_type": "markdown",
   "metadata": {},
   "source": [
    "## one node failure"
   ]
  },
  {
   "cell_type": "code",
   "execution_count": 20,
   "metadata": {},
   "outputs": [
    {
     "data": {
      "text/html": [
       "<table class=\"data-frame\"><thead><tr><th></th><th>algorithm</th><th>affected path</th><th>affected pair</th><th>affected weight</th></tr></thead><tbody><tr><th>1</th><td>custom</td><td>2977</td><td>2001</td><td>992.332</td></tr><tr><th>2</th><td>semimcfvlb</td><td>2811</td><td>1739</td><td>780.537</td></tr><tr><th>3</th><td>raeke</td><td>2639</td><td>1604</td><td>792.652</td></tr><tr><th>4</th><td>semimcfecmp</td><td>1218</td><td>896</td><td>706.0</td></tr><tr><th>5</th><td>semimcfraeke</td><td>2638</td><td>1591</td><td>801.168</td></tr><tr><th>6</th><td>ksp</td><td>2618</td><td>1467</td><td>872.666</td></tr><tr><th>7</th><td>vlb</td><td>2819</td><td>1728</td><td>840.197</td></tr><tr><th>8</th><td>semimcfksp</td><td>2618</td><td>1467</td><td>783.613</td></tr><tr><th>9</th><td>semimcfcustom</td><td>2977</td><td>2001</td><td>845.824</td></tr><tr><th>10</th><td>semimcfedksp</td><td>2684</td><td>1722</td><td>792.657</td></tr><tr><th>11</th><td>ecmp</td><td>1218</td><td>896</td><td>706.0</td></tr><tr><th>12</th><td>edksp</td><td>2684</td><td>1722</td><td>894.666</td></tr></tbody></table>"
      ],
      "text/plain": [
       "12×4 DataFrames.DataFrame\n",
       "│ Row │ algorithm     │ affected path │ affected pair │ affected weight │\n",
       "├─────┼───────────────┼───────────────┼───────────────┼─────────────────┤\n",
       "│ 1   │ custom        │ 2977          │ 2001          │ 992.332         │\n",
       "│ 2   │ semimcfvlb    │ 2811          │ 1739          │ 780.537         │\n",
       "│ 3   │ raeke         │ 2639          │ 1604          │ 792.652         │\n",
       "│ 4   │ semimcfecmp   │ 1218          │ 896           │ 706.0           │\n",
       "│ 5   │ semimcfraeke  │ 2638          │ 1591          │ 801.168         │\n",
       "│ 6   │ ksp           │ 2618          │ 1467          │ 872.666         │\n",
       "│ 7   │ vlb           │ 2819          │ 1728          │ 840.197         │\n",
       "│ 8   │ semimcfksp    │ 2618          │ 1467          │ 783.613         │\n",
       "│ 9   │ semimcfcustom │ 2977          │ 2001          │ 845.824         │\n",
       "│ 10  │ semimcfedksp  │ 2684          │ 1722          │ 792.657         │\n",
       "│ 11  │ ecmp          │ 1218          │ 896           │ 706.0           │\n",
       "│ 12  │ edksp         │ 2684          │ 1722          │ 894.666         │"
      ]
     },
     "execution_count": 20,
     "metadata": {},
     "output_type": "execute_result"
    }
   ],
   "source": [
    "df = mkdf(\"algorithm\", \"affected path\", \"affected pair\", \"affected weight\")\n",
    "for (algo, path) in paths\n",
    "    apath, apair, aweight = 0, 0, 0\n",
    "    \n",
    "    for node in nodes @when startswith(node, \"s\")\n",
    "        for (pair, scheme) in path\n",
    "            pair_affected = false\n",
    "            \n",
    "            for (p, w) in scheme @when any(x->node in x, p)\n",
    "                pair_affected = true\n",
    "                apath += 1\n",
    "                aweight += w\n",
    "            end\n",
    "            \n",
    "            apair += pair_affected\n",
    "        end\n",
    "    end\n",
    "    \n",
    "    push!(df, [algo[1:end-2] apath apair aweight])\n",
    "end\n",
    "df"
   ]
  },
  {
   "cell_type": "markdown",
   "metadata": {},
   "source": [
    "## throuput"
   ]
  },
  {
   "cell_type": "code",
   "execution_count": 143,
   "metadata": {},
   "outputs": [
    {
     "data": {
      "text/html": [
       "<table class=\"data-frame\"><thead><tr><th></th><th>algorithm</th><th>mean(l/c)</th><th>sum(f(l/c))</th><th>sum((l/c)^2)</th></tr></thead><tbody><tr><th>1</th><td>custom</td><td>0.276464</td><td>10.6718</td><td>3.06417</td></tr><tr><th>2</th><td>semimcfvlb</td><td>0.245018</td><td>8.71602</td><td>2.35285</td></tr><tr><th>3</th><td>raeke</td><td>0.234088</td><td>8.35385</td><td>2.2771</td></tr><tr><th>4</th><td>semimcfecmp</td><td>0.194276</td><td>6.29304</td><td>1.65583</td></tr><tr><th>5</th><td>semimcfraeke</td><td>0.260101</td><td>9.30472</td><td>2.54834</td></tr><tr><th>6</th><td>ksp</td><td>0.255224</td><td>9.82557</td><td>2.79309</td></tr><tr><th>7</th><td>vlb</td><td>0.223425</td><td>8.18249</td><td>2.25152</td></tr><tr><th>8</th><td>semimcfksp</td><td>0.275418</td><td>9.69963</td><td>2.70834</td></tr><tr><th>9</th><td>semimcfcustom</td><td>0.227599</td><td>7.8902</td><td>2.0846</td></tr><tr><th>10</th><td>semimcfedksp</td><td>0.227599</td><td>7.8949</td><td>2.08631</td></tr><tr><th>11</th><td>ecmp</td><td>0.194276</td><td>6.44488</td><td>1.67679</td></tr><tr><th>12</th><td>edksp</td><td>0.276464</td><td>10.6785</td><td>3.06563</td></tr></tbody></table>"
      ],
      "text/plain": [
       "12×4 DataFrames.DataFrame\n",
       "│ Row │ algorithm     │ mean(l/c) │ sum(f(l/c)) │ sum((l/c)^2) │\n",
       "├─────┼───────────────┼───────────┼─────────────┼──────────────┤\n",
       "│ 1   │ custom        │ 0.276464  │ 10.6718     │ 3.06417      │\n",
       "│ 2   │ semimcfvlb    │ 0.245018  │ 8.71602     │ 2.35285      │\n",
       "│ 3   │ raeke         │ 0.234088  │ 8.35385     │ 2.2771       │\n",
       "│ 4   │ semimcfecmp   │ 0.194276  │ 6.29304     │ 1.65583      │\n",
       "│ 5   │ semimcfraeke  │ 0.260101  │ 9.30472     │ 2.54834      │\n",
       "│ 6   │ ksp           │ 0.255224  │ 9.82557     │ 2.79309      │\n",
       "│ 7   │ vlb           │ 0.223425  │ 8.18249     │ 2.25152      │\n",
       "│ 8   │ semimcfksp    │ 0.275418  │ 9.69963     │ 2.70834      │\n",
       "│ 9   │ semimcfcustom │ 0.227599  │ 7.8902      │ 2.0846       │\n",
       "│ 10  │ semimcfedksp  │ 0.227599  │ 7.8949      │ 2.08631      │\n",
       "│ 11  │ ecmp          │ 0.194276  │ 6.44488     │ 1.67679      │\n",
       "│ 12  │ edksp         │ 0.276464  │ 10.6785     │ 3.06563      │"
      ]
     },
     "execution_count": 143,
     "metadata": {},
     "output_type": "execute_result"
    }
   ],
   "source": [
    "host_list = readlines(\"data/hosts/$data.hosts\")\n",
    "demand_list = map(readlines(\"data/demands/$data.txt\")) do line\n",
    "    line = map(parse, split(line, ' '))\n",
    "    reshape(line, length(host_list), length(host_list))'\n",
    "end\n",
    "\n",
    "f(x) = x < 0.333 ? x :\n",
    "       x < 0.667 ? 0.333 + 3(x-0.333) :\n",
    "       x < 0.9   ? 1.333 + 10(x-0.667) :\n",
    "       x < 1.0   ? 3.666 + 70(x-0.9) :\n",
    "       x < 1.1   ? 10.666 + 500(x-1.0) :\n",
    "       60.666 + 5000(x-1.1)\n",
    "\n",
    "df = mkdf(\"algorithm\", \"mean(l/c)\", \"sum(f(l/c))\", \"sum((l/c)^2)\")\n",
    "for (algo, path) in paths\n",
    "    total_flow = Dict(edge => 0. for edge in edges if startswith(car(edge), \"s\") && startswith(cadr(edge), \"s\"))\n",
    "    \n",
    "    for demands in demand_list[1:1]\n",
    "        for (pair, scheme) in path\n",
    "            demand = demands[parse(Int, cdr(car(pair))), parse(Int, cdr(cadr(pair)))]\n",
    "            \n",
    "            for (p, w) in scheme, edge in p @when startswith(car(edge), \"s\") && startswith(cadr(edge), \"s\")\n",
    "                total_flow[edge] += w * demand\n",
    "            end\n",
    "        end\n",
    "    end\n",
    "                \n",
    "    tf = collect(values(total_flow)) ./ 2^30\n",
    "    \n",
    "    push!(df, [algo[1:end-2] mean(tf) sum(f, tf) sum(tf .^ 2)])\n",
    "end\n",
    "df"
   ]
  },
  {
   "cell_type": "code",
   "execution_count": 12,
   "metadata": {},
   "outputs": [],
   "source": [
    "function gen_gravity(data, α=2^26, n=4)\n",
    "    hosts = readlines(\"data/hosts/$data.hosts\")\n",
    "    weigths = map(x->rand(), hosts)\n",
    "    open(\"data/demands/$data.gravity\", \"w\") do fout\n",
    "        for l in 1:n\n",
    "            list = [ α * weigths[i] * weigths[j]\n",
    "                     for i in 1:length(hosts)\n",
    "                     for j in 1:length(hosts) ]\n",
    "            println(fout, join(list, ' '))\n",
    "        end\n",
    "    end\n",
    "end\n",
    "gen_gravity(\"Esnet\")"
   ]
  },
  {
   "cell_type": "code",
   "execution_count": null,
   "metadata": {},
   "outputs": [],
   "source": []
  }
 ],
 "metadata": {
  "kernelspec": {
   "display_name": "Julia 0.6.2",
   "language": "julia",
   "name": "julia-0.6"
  },
  "language_info": {
   "file_extension": ".jl",
   "mimetype": "application/julia",
   "name": "julia",
   "version": "0.6.2"
  }
 },
 "nbformat": 4,
 "nbformat_minor": 2
}
