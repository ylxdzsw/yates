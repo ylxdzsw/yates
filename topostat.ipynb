{
 "cells": [
  {
   "cell_type": "code",
   "execution_count": 65,
   "metadata": {},
   "outputs": [],
   "source": [
    "using OhMyJulia\n",
    "using DataFrames"
   ]
  },
  {
   "cell_type": "markdown",
   "metadata": {},
   "source": [
    "## Setup"
   ]
  },
  {
   "cell_type": "code",
   "execution_count": 126,
   "metadata": {},
   "outputs": [],
   "source": [
    "function parse_path(file)\n",
    "    pathdict = Dict{Pair{String, String}, Vector{Pair{Vector{Pair{String, String}}, Float64}}}()\n",
    "    \n",
    "    cp = nothing\n",
    "    for line in eachline(file)\n",
    "        m = match(r\"([hs]\\d+)\\s*->\\s*([hs]\\d+)\", line)\n",
    "        if m != nothing\n",
    "            pathdict[car(m) => cadr(m)] = []\n",
    "            cp = pathdict[car(m) => cadr(m)]\n",
    "            continue\n",
    "        end\n",
    "        \n",
    "        s = split(line, '@')\n",
    "        if length(s) == 2\n",
    "            p = parse(car(s))\n",
    "            p = map(x->Pair(string.(x.args)...), p.args)\n",
    "            w = parse(cadr(s))\n",
    "            push!(cp, p => w)\n",
    "        end\n",
    "    end\n",
    "    \n",
    "    pathdict\n",
    "end\n",
    "\n",
    "function parse_topo(file)\n",
    "    nodes = Set{String}()\n",
    "    edges = Set{Pair{String, String}}()\n",
    "    for line in eachline(file)\n",
    "        m = match(r\"([hs]\\d+)\\s*->\\s*([hs]\\d+)\", line)\n",
    "        m == nothing && continue\n",
    "        \n",
    "        src, dst = car(m), cadr(m)\n",
    "        push!(nodes, src, dst)\n",
    "        push!(edges, src => dst)\n",
    "    end\n",
    "    collect(nodes), collect(edges)\n",
    "end\n",
    "\n",
    "function mkdf(names...)\n",
    "    DataFrame([[] for i in names], [Symbol(i) for i in names])\n",
    "end\n",
    "\n",
    "function cut_path!()\n",
    "    ref = Dict(k=>length(v) for (k, v) in paths[\"custom_0\"])\n",
    "    \n",
    "    for (algo, path) in paths\n",
    "        for (pair, scheme) in path\n",
    "            scheme = sort(scheme, rev=true, by=cadr)\n",
    "            length(scheme) <= ref[pair] && continue\n",
    "            \n",
    "            newscheme = scheme[1:ref[pair]]\n",
    "            factor = sum(cadr.(newscheme))\n",
    "            path[pair] = [p => w / factor for (p, w) in newscheme]\n",
    "        end\n",
    "    end\n",
    "end\n",
    "\n",
    "data = \"abilene\"\n",
    "nodes, edges = parse_topo(\"data/topologies/$data.dot\")\n",
    "# algos = [basename(x) for x in all_files(\"data/results/$data/paths\") if match(r\"_\\d+$\", x) != nothing]\n",
    "algos = [basename(x) for x in all_files(\"data/results/$data/paths\") if endswith(x, \"_0\")]\n",
    "paths = Dict(algo => parse_path(\"data/results/$data/paths/$algo\") for algo in algos)\n",
    "cut_path!()"
   ]
  },
  {
   "cell_type": "markdown",
   "metadata": {},
   "source": [
    "## avg path length"
   ]
  },
  {
   "cell_type": "code",
   "execution_count": 127,
   "metadata": {},
   "outputs": [
    {
     "data": {
      "text/html": [
       "<table class=\"data-frame\"><thead><tr><th></th><th>algorithm</th><th>average length</th><th>max length</th></tr></thead><tbody><tr><th>1</th><td>custom</td><td>5.25</td><td>9</td></tr><tr><th>2</th><td>semimcfvlb</td><td>5.45565</td><td>11</td></tr><tr><th>3</th><td>raeke</td><td>5.20161</td><td>9</td></tr><tr><th>4</th><td>semimcfecmp</td><td>4.64103</td><td>7</td></tr><tr><th>5</th><td>semimcfraeke</td><td>5.64113</td><td>12</td></tr><tr><th>6</th><td>ksp</td><td>5.04032</td><td>8</td></tr><tr><th>7</th><td>vlb</td><td>5.08468</td><td>8</td></tr><tr><th>8</th><td>semimcfksp</td><td>5.69355</td><td>11</td></tr><tr><th>9</th><td>semimcfcustom</td><td>5.25</td><td>9</td></tr><tr><th>10</th><td>semimcfedksp</td><td>5.25</td><td>9</td></tr><tr><th>11</th><td>ecmp</td><td>4.64103</td><td>7</td></tr><tr><th>12</th><td>edksp</td><td>5.25</td><td>9</td></tr></tbody></table>"
      ],
      "text/plain": [
       "12×3 DataFrames.DataFrame\n",
       "│ Row │ algorithm     │ average length │ max length │\n",
       "├─────┼───────────────┼────────────────┼────────────┤\n",
       "│ 1   │ custom        │ 5.25           │ 9          │\n",
       "│ 2   │ semimcfvlb    │ 5.45565        │ 11         │\n",
       "│ 3   │ raeke         │ 5.20161        │ 9          │\n",
       "│ 4   │ semimcfecmp   │ 4.64103        │ 7          │\n",
       "│ 5   │ semimcfraeke  │ 5.64113        │ 12         │\n",
       "│ 6   │ ksp           │ 5.04032        │ 8          │\n",
       "│ 7   │ vlb           │ 5.08468        │ 8          │\n",
       "│ 8   │ semimcfksp    │ 5.69355        │ 11         │\n",
       "│ 9   │ semimcfcustom │ 5.25           │ 9          │\n",
       "│ 10  │ semimcfedksp  │ 5.25           │ 9          │\n",
       "│ 11  │ ecmp          │ 4.64103        │ 7          │\n",
       "│ 12  │ edksp         │ 5.25           │ 9          │"
      ]
     },
     "execution_count": 127,
     "metadata": {},
     "output_type": "execute_result"
    }
   ],
   "source": [
    "df = mkdf(\"algorithm\", \"average length\", \"max length\")\n",
    "for (algo, path) in paths\n",
    "    lens = [length(car(p)) for (k, v) in path for p in v]\n",
    "    push!(df, [algo[1:end-2] mean(lens) maximum(lens)])\n",
    "end\n",
    "df"
   ]
  },
  {
   "cell_type": "code",
   "execution_count": null,
   "metadata": {},
   "outputs": [],
   "source": [
    "## one edge failure"
   ]
  },
  {
   "cell_type": "code",
   "execution_count": 128,
   "metadata": {},
   "outputs": [
    {
     "data": {
      "text/html": [
       "<table class=\"data-frame\"><thead><tr><th></th><th>algorithm</th><th>affected path</th><th>affected pair</th><th>affected weight</th></tr></thead><tbody><tr><th>1</th><td>custom</td><td>806</td><td>806</td><td>427.333</td></tr><tr><th>2</th><td>semimcfvlb</td><td>857</td><td>784</td><td>494.705</td></tr><tr><th>3</th><td>raeke</td><td>794</td><td>776</td><td>381.201</td></tr><tr><th>4</th><td>semimcfecmp</td><td>412</td><td>388</td><td>330.0</td></tr><tr><th>5</th><td>semimcfraeke</td><td>903</td><td>825</td><td>550.649</td></tr><tr><th>6</th><td>ksp</td><td>754</td><td>677</td><td>401.333</td></tr><tr><th>7</th><td>vlb</td><td>765</td><td>705</td><td>367.184</td></tr><tr><th>8</th><td>semimcfksp</td><td>916</td><td>840</td><td>562.628</td></tr><tr><th>9</th><td>semimcfcustom</td><td>806</td><td>806</td><td>393.636</td></tr><tr><th>10</th><td>semimcfedksp</td><td>806</td><td>806</td><td>393.636</td></tr><tr><th>11</th><td>ecmp</td><td>412</td><td>388</td><td>330.0</td></tr><tr><th>12</th><td>edksp</td><td>806</td><td>806</td><td>427.333</td></tr></tbody></table>"
      ],
      "text/plain": [
       "12×4 DataFrames.DataFrame\n",
       "│ Row │ algorithm     │ affected path │ affected pair │ affected weight │\n",
       "├─────┼───────────────┼───────────────┼───────────────┼─────────────────┤\n",
       "│ 1   │ custom        │ 806           │ 806           │ 427.333         │\n",
       "│ 2   │ semimcfvlb    │ 857           │ 784           │ 494.705         │\n",
       "│ 3   │ raeke         │ 794           │ 776           │ 381.201         │\n",
       "│ 4   │ semimcfecmp   │ 412           │ 388           │ 330.0           │\n",
       "│ 5   │ semimcfraeke  │ 903           │ 825           │ 550.649         │\n",
       "│ 6   │ ksp           │ 754           │ 677           │ 401.333         │\n",
       "│ 7   │ vlb           │ 765           │ 705           │ 367.184         │\n",
       "│ 8   │ semimcfksp    │ 916           │ 840           │ 562.628         │\n",
       "│ 9   │ semimcfcustom │ 806           │ 806           │ 393.636         │\n",
       "│ 10  │ semimcfedksp  │ 806           │ 806           │ 393.636         │\n",
       "│ 11  │ ecmp          │ 412           │ 388           │ 330.0           │\n",
       "│ 12  │ edksp         │ 806           │ 806           │ 427.333         │"
      ]
     },
     "execution_count": 128,
     "metadata": {},
     "output_type": "execute_result"
    }
   ],
   "source": [
    "df = mkdf(\"algorithm\", \"affected path\", \"affected pair\", \"affected weight\")\n",
    "for (algo, path) in paths\n",
    "    apath, apair, aweight = 0, 0, 0\n",
    "    \n",
    "    for edge in edges @when startswith(car(edge), \"s\") && startswith(cadr(edge), \"s\")\n",
    "        for (pair, scheme) in path\n",
    "            pair_affected = false\n",
    "            \n",
    "            for (p, w) in scheme @when edge in p\n",
    "                pair_affected = true\n",
    "                apath += 1\n",
    "                aweight += w\n",
    "            end\n",
    "            \n",
    "            apair += pair_affected\n",
    "        end\n",
    "    end\n",
    "    \n",
    "    push!(df, [algo[1:end-2] apath apair aweight])\n",
    "end\n",
    "df"
   ]
  },
  {
   "cell_type": "markdown",
   "metadata": {},
   "source": [
    "## one node failure"
   ]
  },
  {
   "cell_type": "markdown",
   "metadata": {},
   "source": [
    "df = mkdf(\"algorithm\", \"affected path\", \"affected pair\", \"affected weight\")\n",
    "for (algo, path) in paths\n",
    "    apath, apair, aweight = 0, 0, 0\n",
    "    \n",
    "    for node in nodes @when startswith(node, \"s\")\n",
    "        for (pair, scheme) in path\n",
    "            pair_affected = false\n",
    "            \n",
    "            for (p, w) in scheme @when any(x->node in x, p)\n",
    "                pair_affected = true\n",
    "                apath += 1\n",
    "                aweight += w\n",
    "            end\n",
    "            \n",
    "            apair += pair_affected\n",
    "        end\n",
    "    end\n",
    "    \n",
    "    push!(df, [algo[1:end-2] apath apair aweight])\n",
    "end\n",
    "df"
   ]
  },
  {
   "cell_type": "code",
   "execution_count": null,
   "metadata": {},
   "outputs": [],
   "source": []
  },
  {
   "cell_type": "code",
   "execution_count": null,
   "metadata": {},
   "outputs": [],
   "source": []
  }
 ],
 "metadata": {
  "kernelspec": {
   "display_name": "Julia 0.6.2",
   "language": "julia",
   "name": "julia-0.6"
  },
  "language_info": {
   "file_extension": ".jl",
   "mimetype": "application/julia",
   "name": "julia",
   "version": "0.6.2"
  }
 },
 "nbformat": 4,
 "nbformat_minor": 2
}
